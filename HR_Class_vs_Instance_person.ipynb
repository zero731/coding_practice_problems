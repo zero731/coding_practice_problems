{
 "cells": [
  {
   "cell_type": "code",
   "execution_count": 28,
   "metadata": {},
   "outputs": [],
   "source": [
    "class Person:\n",
    "    def __init__(self,initialAge):\n",
    "        if initialAge < 0:\n",
    "            self.age = 0\n",
    "            print(\"Age is not valid, setting age to 0.\")\n",
    "        else:\n",
    "            self.age = initialAge\n",
    "        \n",
    "        \n",
    "    def amIOld(self):\n",
    "        if self.age < 13:\n",
    "            print(\"You are young.\")\n",
    "        elif self.age >= 13 and self.age < 18:\n",
    "            print(\"You are a teenager.\")\n",
    "        else:\n",
    "            print(\"You are old.\")\n",
    "        \n",
    "        \n",
    "    def yearPasses(self):\n",
    "        self.age += 1"
   ]
  },
  {
   "cell_type": "code",
   "execution_count": 29,
   "metadata": {},
   "outputs": [],
   "source": [
    "max = Person(28)"
   ]
  },
  {
   "cell_type": "code",
   "execution_count": 30,
   "metadata": {},
   "outputs": [
    {
     "name": "stdout",
     "output_type": "stream",
     "text": [
      "28\n",
      "You are old.\n"
     ]
    }
   ],
   "source": [
    "print(max.age)\n",
    "max.amIOld()"
   ]
  },
  {
   "cell_type": "code",
   "execution_count": 31,
   "metadata": {},
   "outputs": [
    {
     "data": {
      "text/plain": [
       "29"
      ]
     },
     "execution_count": 31,
     "metadata": {},
     "output_type": "execute_result"
    }
   ],
   "source": [
    "max.yearPasses()\n",
    "max.age"
   ]
  },
  {
   "cell_type": "code",
   "execution_count": 32,
   "metadata": {},
   "outputs": [
    {
     "name": "stdout",
     "output_type": "stream",
     "text": [
      "Age is not valid, setting age to 0.\n",
      "0\n",
      "You are young.\n"
     ]
    }
   ],
   "source": [
    "egg = Person(-1)\n",
    "print(egg.age)\n",
    "egg.amIOld()"
   ]
  },
  {
   "cell_type": "code",
   "execution_count": 33,
   "metadata": {},
   "outputs": [
    {
     "name": "stdout",
     "output_type": "stream",
     "text": [
      "1\n",
      "You are young.\n",
      "None\n",
      "\n",
      "2\n",
      "You are young.\n",
      "None\n",
      "\n",
      "3\n",
      "You are young.\n",
      "None\n",
      "\n",
      "4\n",
      "You are young.\n",
      "None\n",
      "\n",
      "5\n",
      "You are young.\n",
      "None\n",
      "\n",
      "6\n",
      "You are young.\n",
      "None\n",
      "\n",
      "7\n",
      "You are young.\n",
      "None\n",
      "\n",
      "8\n",
      "You are young.\n",
      "None\n",
      "\n",
      "9\n",
      "You are young.\n",
      "None\n",
      "\n",
      "10\n",
      "You are young.\n",
      "None\n",
      "\n",
      "11\n",
      "You are young.\n",
      "None\n",
      "\n",
      "12\n",
      "You are young.\n",
      "None\n",
      "\n",
      "13\n",
      "You are a teenager.\n",
      "None\n",
      "\n",
      "14\n",
      "You are a teenager.\n",
      "None\n",
      "\n",
      "15\n",
      "You are a teenager.\n",
      "None\n",
      "\n",
      "16\n",
      "You are a teenager.\n",
      "None\n",
      "\n",
      "17\n",
      "You are a teenager.\n",
      "None\n",
      "\n",
      "18\n",
      "You are old.\n",
      "None\n",
      "\n"
     ]
    }
   ],
   "source": [
    "for year in range(18):\n",
    "    egg.yearPasses()\n",
    "    print(egg.age)\n",
    "    print(egg.amIOld())\n",
    "    print()"
   ]
  },
  {
   "cell_type": "code",
   "execution_count": null,
   "metadata": {},
   "outputs": [],
   "source": []
  }
 ],
 "metadata": {
  "kernelspec": {
   "display_name": "learn-env",
   "language": "python",
   "name": "learn-env"
  },
  "language_info": {
   "codemirror_mode": {
    "name": "ipython",
    "version": 3
   },
   "file_extension": ".py",
   "mimetype": "text/x-python",
   "name": "python",
   "nbconvert_exporter": "python",
   "pygments_lexer": "ipython3",
   "version": "3.6.9"
  }
 },
 "nbformat": 4,
 "nbformat_minor": 2
}
