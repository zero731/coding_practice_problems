{
 "cells": [
  {
   "cell_type": "code",
   "execution_count": 21,
   "metadata": {},
   "outputs": [],
   "source": [
    "import pandas as pd"
   ]
  },
  {
   "cell_type": "code",
   "execution_count": 22,
   "metadata": {},
   "outputs": [],
   "source": [
    "def get_dupl_1(nums):\n",
    "    \n",
    "    duplicates = []\n",
    "\n",
    "    for x in set(nums):\n",
    "        bool_sum = 0\n",
    "        for i in nums:\n",
    "            if bool_sum < 2: # stops checking once the int has appeared twice\n",
    "                if x == i:\n",
    "                    bool_sum +=1\n",
    "        if bool_sum > 1:\n",
    "            duplicates.append(x)\n",
    "            \n",
    "    return duplicates"
   ]
  },
  {
   "cell_type": "code",
   "execution_count": 23,
   "metadata": {},
   "outputs": [],
   "source": [
    "a = [1, 5, 6, 3, 4, 3, 4]\n",
    "b = [0, 0, 0, 3, 4, 3, 4]\n",
    "c = [1, 2, 3, 4, 5]"
   ]
  },
  {
   "cell_type": "code",
   "execution_count": 24,
   "metadata": {},
   "outputs": [
    {
     "name": "stdout",
     "output_type": "stream",
     "text": [
      "[3, 4]\n",
      "[0, 3, 4]\n",
      "[]\n"
     ]
    }
   ],
   "source": [
    "print(get_dupl_1(a))\n",
    "print(get_dupl_1(b))\n",
    "print(get_dupl_1(c))"
   ]
  },
  {
   "cell_type": "code",
   "execution_count": 25,
   "metadata": {},
   "outputs": [],
   "source": [
    "def get_dupl_2(nums):\n",
    "   \n",
    "    checked = {}\n",
    "    duplicates = []\n",
    "    \n",
    "    for x in nums:\n",
    "        if x not in checked:\n",
    "            checked[x] = 1\n",
    "        else:\n",
    "            if checked[x] == 1:\n",
    "                duplicates.append(x)\n",
    "            checked[x] +=1\n",
    "            \n",
    "    return duplicates    "
   ]
  },
  {
   "cell_type": "code",
   "execution_count": 26,
   "metadata": {},
   "outputs": [
    {
     "name": "stdout",
     "output_type": "stream",
     "text": [
      "[3, 4]\n",
      "[0, 3, 4]\n",
      "[]\n"
     ]
    }
   ],
   "source": [
    "print(get_dupl_2(a))\n",
    "print(get_dupl_2(b))\n",
    "print(get_dupl_2(c))"
   ]
  },
  {
   "cell_type": "code",
   "execution_count": 27,
   "metadata": {},
   "outputs": [],
   "source": [
    "def get_dupl_pd(nums):\n",
    "    \n",
    "    nums = pd.Series(nums)\n",
    "    \n",
    "    vc = nums.value_counts()\n",
    "    duplicates = list(vc[vc>1].index)\n",
    "    \n",
    "    return duplicates"
   ]
  },
  {
   "cell_type": "code",
   "execution_count": 28,
   "metadata": {},
   "outputs": [
    {
     "name": "stdout",
     "output_type": "stream",
     "text": [
      "[4, 3]\n",
      "[0, 4, 3]\n",
      "[]\n"
     ]
    }
   ],
   "source": [
    "print(get_dupl_pd(a))\n",
    "print(get_dupl_pd(b))\n",
    "print(get_dupl_pd(c))"
   ]
  },
  {
   "cell_type": "code",
   "execution_count": null,
   "metadata": {},
   "outputs": [],
   "source": []
  },
  {
   "cell_type": "code",
   "execution_count": null,
   "metadata": {},
   "outputs": [],
   "source": []
  }
 ],
 "metadata": {
  "kernelspec": {
   "display_name": "learn-env",
   "language": "python",
   "name": "learn-env"
  },
  "language_info": {
   "codemirror_mode": {
    "name": "ipython",
    "version": 3
   },
   "file_extension": ".py",
   "mimetype": "text/x-python",
   "name": "python",
   "nbconvert_exporter": "python",
   "pygments_lexer": "ipython3",
   "version": "3.6.9"
  }
 },
 "nbformat": 4,
 "nbformat_minor": 2
}
